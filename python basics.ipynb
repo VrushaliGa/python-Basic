{
 "cells": [
  {
   "cell_type": "code",
   "execution_count": 1,
   "id": "3c5e05bc",
   "metadata": {},
   "outputs": [
    {
     "name": "stdout",
     "output_type": "stream",
     "text": [
      "Guess the word: _____\n",
      "v\n",
      "Yay\n",
      "Guess the word: v____\n",
      "b\n",
      "Nope\n",
      "Guess the word: v____\n",
      "r\n",
      "Yay\n",
      "Guess the word: vr___\n",
      "g\n",
      "Nope\n",
      "Guess the word: vr___\n",
      "u\n",
      "Yay\n",
      "Guess the word: vru__\n",
      "s\n",
      "Yay\n",
      "Guess the word: vrus_\n",
      "r\n",
      "Already guessed r\n",
      "Guess the word: vrus_\n",
      "g\n",
      "Nope\n",
      "Guess the word: vrus_\n",
      "h\n",
      "Yay\n",
      "You guessed vrush\n"
     ]
    }
   ],
   "source": [
    "from random import choice\n",
    "\n",
    "word = choice([\"vrush\", \"gajjar\"])\n",
    "\n",
    "guessed = []\n",
    "\n",
    "while True:\n",
    "\n",
    "    out = \"\"\n",
    "    for letter in word:\n",
    "        if letter in guessed:\n",
    "            out = out + letter\n",
    "        else:\n",
    "            out = out + \"_\"\n",
    "\n",
    "    if out == word:\n",
    "        print(\"You guessed\", word)\n",
    "        break\n",
    "\n",
    "\n",
    "    print(\"Guess the word:\", out)\n",
    "    guess = input()\n",
    "\n",
    "    if guess in guessed:\n",
    "        print(\"Already guessed\", guess)\n",
    "    elif guess in word:\n",
    "        print(\"Yay\")\n",
    "        guessed.append(guess)\n",
    "    else:\n",
    "        print(\"Nope\")\n"
   ]
  },
  {
   "cell_type": "code",
   "execution_count": null,
   "id": "525041d2",
   "metadata": {},
   "outputs": [],
   "source": []
  }
 ],
 "metadata": {
  "kernelspec": {
   "display_name": "Python 3 (ipykernel)",
   "language": "python",
   "name": "python3"
  },
  "language_info": {
   "codemirror_mode": {
    "name": "ipython",
    "version": 3
   },
   "file_extension": ".py",
   "mimetype": "text/x-python",
   "name": "python",
   "nbconvert_exporter": "python",
   "pygments_lexer": "ipython3",
   "version": "3.9.13"
  }
 },
 "nbformat": 4,
 "nbformat_minor": 5
}
